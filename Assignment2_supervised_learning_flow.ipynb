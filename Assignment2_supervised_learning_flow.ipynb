{
 "cells": [
  {
   "cell_type": "markdown",
   "id": "ec202ada",
   "metadata": {},
   "source": [
    "# Assignment2 - Supervised Learning flow"
   ]
  },
  {
   "cell_type": "markdown",
   "id": "b06a2810",
   "metadata": {},
   "source": [
    "# Part 1 - Student details:\n",
    "* Please write the First Name and last 4 digits of the i.d. for each student. For example:\n",
    "<pre>Israel 9812</pre>"
   ]
  },
  {
   "cell_type": "code",
   "execution_count": null,
   "id": "ca16486b",
   "metadata": {},
   "outputs": [],
   "source": [
    "# student 1:Guy 7265\n",
    "# student 2:"
   ]
  },
  {
   "cell_type": "markdown",
   "id": "df67c2ee-87c8-499c-a04f-1853c332f51d",
   "metadata": {},
   "source": [
    "## Part 2 - Initial Preparations \n",
    "You could add as many code cells as needed"
   ]
  },
  {
   "cell_type": "code",
   "execution_count": null,
   "id": "b29b3454-b568-4614-8017-f15b3c59fc55",
   "metadata": {},
   "outputs": [],
   "source": [
    "# Importing necessary libraries\n",
    "import pandas as pd\n",
    "import numpy as np\n",
    "import matplotlib.pyplot as plt\n",
    "import seaborn as sns\n",
    "from sklearn.preprocessing import StandardScaler\n",
    "\n",
    "# Loading the datasets\n",
    "train_df = pd.read_csv('wine_train.csv')\n",
    "test_df = pd.read_csv('wine_test.csv')\n",
    "\n",
    "# Displaying the first 5 rows of the train and test sets\n",
    "print(\"Train Set:\")\n",
    "print(train_df.head())\n",
    "print(\"\\nTest Set:\")\n",
    "print(test_df.head())\n",
    "\n",
    "# Exploratory Data Analysis (EDA)\n",
    "# Displaying basic statistics\n",
    "print(\"\\nTrain Set Statistics:\")\n",
    "print(train_df.describe())\n",
    "\n",
    "print(\"\\nTest Set Statistics:\")\n",
    "print(test_df.describe())\n",
    "\n",
    "# Visualization: Histograms of numerical variables\n",
    "train_df.hist(bins=20, figsize=(15, 10))\n",
    "plt.suptitle('Histograms of Numerical Variables in the Train Set')\n",
    "plt.show()\n",
    "\n",
    "# Visualization: Heatmap of correlations between variables\n",
    "plt.figure(figsize=(10, 6))\n",
    "sns.heatmap(train_df.corr(), annot=True, cmap='coolwarm')\n",
    "plt.title('Heatmap of Feature Correlations in Train Set')\n",
    "plt.show()"
   ]
  },
  {
   "cell_type": "code",
   "execution_count": null,
   "id": "4b47fe56-d611-4b28-be92-673db4d56400",
   "metadata": {},
   "outputs": [],
   "source": []
  },
  {
   "cell_type": "code",
   "execution_count": null,
   "id": "53e27610-b640-4db0-80c9-789b5f5fae58",
   "metadata": {},
   "outputs": [],
   "source": []
  },
  {
   "cell_type": "markdown",
   "id": "fb36672a",
   "metadata": {},
   "source": [
    "## Part 3 - Experiments\n",
    "You could add as many code cells as needed"
   ]
  },
  {
   "cell_type": "code",
   "execution_count": null,
   "id": "b7098585",
   "metadata": {},
   "outputs": [],
   "source": [
    "# Part 3 - Experiments\n",
    "\n",
    "from sklearn.model_selection import GridSearchCV\n",
    "from sklearn.ensemble import RandomForestClassifier\n",
    "from sklearn.linear_model import LogisticRegression\n",
    "\n",
    "# Data Preprocessing: Standardizing the data\n",
    "scaler = StandardScaler()\n",
    "X_train = train_df.drop('target', axis=1)\n",
    "y_train = train_df['target']\n",
    "X_train_scaled = scaler.fit_transform(X_train)\n",
    "\n",
    "# Experiment with Random Forest Model\n",
    "rf_model = RandomForestClassifier()\n",
    "param_grid_rf = {\n",
    "    'n_estimators': [100, 200, 300],\n",
    "    'max_depth': [None, 10, 20, 30],\n",
    "    'min_samples_split': [2, 5, 10]\n",
    "}\n",
    "\n",
    "# Perform Grid Search with Cross-Validation for Random Forest\n",
    "grid_search_rf = GridSearchCV(rf_model, param_grid_rf, cv=5, scoring='accuracy')\n",
    "grid_search_rf.fit(X_train_scaled, y_train)\n",
    "\n",
    "# Display Best Parameters for Random Forest\n",
    "print(\"Best Parameters for Random Forest from Grid Search:\")\n",
    "print(grid_search_rf.best_params_)\n",
    "\n",
    "# Additional Experiment with Logistic Regression Model\n",
    "logreg_model = LogisticRegression(max_iter=1000)\n",
    "param_grid_logreg = {\n",
    "    'C': [0.1, 1, 10],\n",
    "    'penalty': ['l2']\n",
    "}\n",
    "\n",
    "# Perform Grid Search with Cross-Validation for Logistic Regression\n",
    "grid_search_logreg = GridSearchCV(logreg_model, param_grid_logreg, cv=5, scoring='accuracy')\n",
    "grid_search_logreg.fit(X_train_scaled, y_train)\n",
    "\n",
    "# Display Best Parameters for Logistic Regression\n",
    "print(\"Best Parameters for Logistic Regression from Grid Search:\")\n",
    "print(grid_search_logreg.best_params_)"
   ]
  },
  {
   "cell_type": "code",
   "execution_count": null,
   "id": "097afb02",
   "metadata": {},
   "outputs": [],
   "source": [
    "# Display the first 5 predictions on the test set\n",
    "print(\"First 5 Predictions on Test Set:\")\n",
    "print(y_pred[:5])"
   ]
  },
  {
   "cell_type": "code",
   "execution_count": null,
   "id": "1fa9ec73",
   "metadata": {},
   "outputs": [],
   "source": []
  },
  {
   "cell_type": "code",
   "execution_count": null,
   "id": "937b653d",
   "metadata": {},
   "outputs": [],
   "source": []
  },
  {
   "cell_type": "markdown",
   "id": "67d97f11",
   "metadata": {},
   "source": [
    "## Part 4 - Training \n",
    "Use the best combination of feature engineering, model (algorithm and hyperparameters) from the experiment part (part 3)"
   ]
  },
  {
   "cell_type": "code",
   "execution_count": null,
   "id": "93713ead",
   "metadata": {},
   "outputs": [],
   "source": [
    "# Using the best estimator from Grid Search for final training\n",
    "best_rf_model = grid_search_rf.best_estimator_\n",
    "best_rf_model.fit(X_train_scaled, y_train)\n",
    "\n",
    "# Additionally training the best logistic regression model\n",
    "best_logreg_model = grid_search_logreg.best_estimator_\n",
    "best_logreg_model.fit(X_train_scaled, y_train)"
   ]
  },
  {
   "cell_type": "code",
   "execution_count": null,
   "id": "c0fc460d",
   "metadata": {},
   "outputs": [],
   "source": []
  },
  {
   "cell_type": "code",
   "execution_count": null,
   "id": "064ad0a0",
   "metadata": {},
   "outputs": [],
   "source": []
  },
  {
   "cell_type": "markdown",
   "id": "259ab902",
   "metadata": {},
   "source": [
    "## Part 5 - Apply on test and show model performance estimation"
   ]
  },
  {
   "cell_type": "code",
   "execution_count": null,
   "id": "d9971aa5",
   "metadata": {},
   "outputs": [],
   "source": [
    "from sklearn.metrics import classification_report, confusion_matrix\n",
    "\n",
    "# Preprocess test data\n",
    "X_test = test_df.drop('target', axis=1)\n",
    "y_test = test_df['target']\n",
    "X_test_scaled = scaler.transform(X_test)\n",
    "\n",
    "# Predict on Test Set using the Random Forest Model\n",
    "y_pred_rf = best_rf_model.predict(X_test_scaled)\n",
    "\n",
    "# Evaluation for Random Forest Model\n",
    "print(\"\\nRandom Forest Classification Report:\")\n",
    "print(classification_report(y_test, y_pred_rf))\n",
    "\n",
    "# Confusion Matrix for Random Forest\n",
    "plt.figure(figsize=(8, 6))\n",
    "sns.heatmap(confusion_matrix(y_test, y_pred_rf), annot=True, fmt=\"d\", cmap='Blues')\n",
    "plt.title('Confusion Matrix for Random Forest')\n",
    "plt.xlabel('Predicted')\n",
    "plt.ylabel('Actual')\n",
    "plt.show()\n",
    "\n",
    "# Predict on Test Set using the Logistic Regression Model\n",
    "y_pred_logreg = best_logreg_model.predict(X_test_scaled)\n",
    "\n",
    "# Evaluation for Logistic Regression Model\n",
    "print(\"\\nLogistic Regression Classification Report:\")\n",
    "print(classification_report(y_test, y_pred_logreg))\n",
    "\n",
    "# Confusion Matrix for Logistic Regression\n",
    "plt.figure(figsize=(8, 6))\n",
    "sns.heatmap(confusion_matrix(y_test, y_pred_logreg), annot=True, fmt=\"d\", cmap='Greens')\n",
    "plt.title('Confusion Matrix for Logistic Regression')\n",
    "plt.xlabel('Predicted')\n",
    "plt.ylabel('Actual')\n",
    "plt.show()\n",
    "\n",
    "# Display the first 5 predictions on the test set using both models\n",
    "print(\"First 5 Predictions on Test Set (Random Forest):\")\n",
    "print(y_pred_rf[:5])\n",
    "\n",
    "print(\"First 5 Predictions on Test Set (Logistic Regression):\")\n",
    "print(y_pred_logreg[:5])"
   ]
  },
  {
   "cell_type": "code",
   "execution_count": null,
   "id": "00d8aa96",
   "metadata": {},
   "outputs": [],
   "source": []
  }
 ],
 "metadata": {
  "kernelspec": {
   "display_name": "Python 3 (ipykernel)",
   "language": "python",
   "name": "python3"
  },
  "language_info": {
   "codemirror_mode": {
    "name": "ipython",
    "version": 3
   },
   "file_extension": ".py",
   "mimetype": "text/x-python",
   "name": "python",
   "nbconvert_exporter": "python",
   "pygments_lexer": "ipython3",
   "version": "3.11.9"
  }
 },
 "nbformat": 4,
 "nbformat_minor": 5
}
